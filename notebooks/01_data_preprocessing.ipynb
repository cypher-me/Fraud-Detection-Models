{
 "cells": [
  {
   "cell_type": "markdown",
   "metadata": {},
   "source": [
    "# Data Preprocessing for Fraud Detection"
   ]
  },
  {
   "cell_type": "code",
   "execution_count": null,
   "metadata": {},
   "outputs": [],
   "source": [
    "import pandas as pd\n",
    "import numpy as np\n",
    "from sklearn.preprocessing import StandardScaler, RobustScaler\n",
    "from sklearn.model_selection import train_test_split\n",
    "from imblearn.over_sampling import SMOTE\n",
    "import pickle\n",
    "import os"
   ]
  },
  {
   "cell_type": "code",
   "execution_count": null,
   "metadata": {},
   "outputs": [],
   "source": [
    "# Load data\n",
    "df = pd.read_csv('../data/creditcard.csv')\n",
    "print(f\"Dataset shape: {df.shape}\")\n",
    "print(f\"Fraud cases: {df['Class'].sum()} ({df['Class'].mean()*100:.2f}%)\")\n",
    "df.head()"
   ]
  },
  {
   "cell_type": "code",
   "execution_count": null,
   "metadata": {},
   "outputs": [],
   "source": [
    "# Feature engineering\n",
    "scaler = RobustScaler()\n",
    "df['Amount_scaled'] = scaler.fit_transform(df[['Amount']])\n",
    "df['Time_scaled'] = scaler.fit_transform(df[['Time']])\n",
    "df['Hour'] = (df['Time'] / 3600) % 24\n",
    "df['Amount_log'] = np.log1p(df['Amount'])\n",
    "\n",
    "feature_cols = [col for col in df.columns if col.startswith('V')] + ['Amount_scaled', 'Time_scaled', 'Hour', 'Amount_log']\n",
    "X = df[feature_cols]\n",
    "y = df['Class']"
   ]
  },
  {
   "cell_type": "code",
   "execution_count": null,
   "metadata": {},
   "outputs": [],
   "source": [
    "# Train-test split\n",
    "X_train, X_test, y_train, y_test = train_test_split(X, y, test_size=0.2, random_state=42, stratify=y)\n",
    "\n",
    "# Apply SMOTE\n",
    "smote = SMOTE(random_state=42)\n",
    "X_train_balanced, y_train_balanced = smote.fit_resample(X_train, y_train)\n",
    "\n",
    "print(f\"Original: {y_train.value_counts()}\")\n",
    "print(f\"Balanced: {pd.Series(y_train_balanced).value_counts()}\")"
   ]
  },
  {
   "cell_type": "code",
   "execution_count": null,
   "metadata": {},
   "outputs": [],
   "source": [
    "# Save data\n",
    "os.makedirs('../models', exist_ok=True)\n",
    "\n",
    "np.save('../models/X_train.npy', X_train.values)\n",
    "np.save('../models/X_test.npy', X_test.values)\n",
    "np.save('../models/y_train.npy', y_train.values)\n",
    "np.save('../models/y_test.npy', y_test.values)\n",
    "np.save('../models/X_train_balanced.npy', X_train_balanced)\n",
    "np.save('../models/y_train_balanced.npy', y_train_balanced)\n",
    "\n",
    "with open('../models/feature_names.pkl', 'wb') as f:\n",
    "    pickle.dump(feature_cols, f)\n",
    "    \n",
    "with open('../models/scaler.pkl', 'wb') as f:\n",
    "    pickle.dump(scaler, f)\n",
    "\n",
    "print(\"Preprocessing complete.\")"
   ]
  }
 ],
 "metadata": {
  "kernelspec": {
   "display_name": "Python 3",
   "language": "python",
   "name": "python3"
  }
 },
 "nbformat": 4,
 "nbformat_minor": 4
}