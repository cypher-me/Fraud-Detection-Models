{
 "cells": [
  {
   "cell_type": "markdown",
   "metadata": {},
   "source": [
    "# Exploratory Data Analysis for Fraud Detection"
   ]
  },
  {
   "cell_type": "code",
   "execution_count": null,
   "metadata": {},
   "outputs": [],
   "source": [
    "import pandas as pd\n",
    "import numpy as np\n",
    "import matplotlib.pyplot as plt\n",
    "import seaborn as sns\n",
    "import os\n",
    "\n",
    "plt.style.use('seaborn-v0_8')\n",
    "os.makedirs('../reports', exist_ok=True)"
   ]
  },
  {
   "cell_type": "code",
   "execution_count": null,
   "metadata": {},
   "outputs": [],
   "source": [
    "# Load data\n",
    "df = pd.read_csv('../data/creditcard.csv')\n",
    "print(f\"Dataset shape: {df.shape}\")\n",
    "print(f\"Fraud rate: {df['Class'].mean()*100:.2f}%\")"
   ]
  },
  {
   "cell_type": "code",
   "execution_count": null,
   "metadata": {},
   "outputs": [],
   "source": [
    "# Class imbalance visualization\n",
    "fig, axes = plt.subplots(1, 2, figsize=(12, 5))\n",
    "\n",
    "df['Class'].value_counts().plot(kind='bar', ax=axes[0])\n",
    "axes[0].set_title('Class Distribution')\n",
    "axes[0].set_xlabel('Class (0: Normal, 1: Fraud)')\n",
    "\n",
    "df['Class'].value_counts().plot(kind='pie', ax=axes[1], autopct='%1.2f%%')\n",
    "axes[1].set_title('Class Distribution (%)')\n",
    "axes[1].set_ylabel('')\n",
    "\n",
    "plt.tight_layout()\n",
    "plt.savefig('../reports/class_distribution.png', dpi=300, bbox_inches='tight')\n",
    "plt.show()"
   ]
  },
  {
   "cell_type": "code",
   "execution_count": null,
   "metadata": {},
   "outputs": [],
   "source": [
    "# Transaction patterns\n",
    "df['Hour'] = (df['Time'] / 3600) % 24\n",
    "\n",
    "fig, axes = plt.subplots(2, 2, figsize=(15, 10))\n",
    "\n",
    "# Transactions by hour\n",
    "hourly_counts = df.groupby(['Hour', 'Class']).size().unstack(fill_value=0)\n",
    "hourly_counts.plot(kind='bar', ax=axes[0,0], width=0.8)\n",
    "axes[0,0].set_title('Transactions by Hour')\n",
    "axes[0,0].legend(['Normal', 'Fraud'])\n",
    "\n",
    "# Amount distribution\n",
    "df[df['Class']==0]['Amount'].hist(bins=50, alpha=0.7, label='Normal', ax=axes[0,1])\n",
    "df[df['Class']==1]['Amount'].hist(bins=50, alpha=0.7, label='Fraud', ax=axes[0,1])\n",
    "axes[0,1].set_title('Amount Distribution')\n",
    "axes[0,1].set_yscale('log')\n",
    "axes[0,1].legend()\n",
    "\n",
    "# Fraud rate by hour\n",
    "fraud_rate = df.groupby('Hour')['Class'].mean()\n",
    "fraud_rate.plot(kind='line', marker='o', ax=axes[1,0])\n",
    "axes[1,0].set_title('Fraud Rate by Hour')\n",
    "\n",
    "# Amount vs Time scatter\n",
    "sample_df = df.sample(10000)\n",
    "scatter = axes[1,1].scatter(sample_df['Time'], sample_df['Amount'], c=sample_df['Class'], alpha=0.6, cmap='coolwarm')\n",
    "axes[1,1].set_title('Amount vs Time')\n",
    "plt.colorbar(scatter, ax=axes[1,1])\n",
    "\n",
    "plt.tight_layout()\n",
    "plt.savefig('../reports/transaction_patterns.png', dpi=300, bbox_inches='tight')\n",
    "plt.show()"
   ]
  },
  {
   "cell_type": "code",
   "execution_count": null,
   "metadata": {},
   "outputs": [],
   "source": [
    "# Feature correlation with fraud\n",
    "v_features = [col for col in df.columns if col.startswith('V')]\n",
    "corr_with_class = df[v_features + ['Class']].corr()['Class'].sort_values(key=abs, ascending=False)\n",
    "\n",
    "plt.figure(figsize=(12, 8))\n",
    "corr_with_class[1:-1].plot(kind='barh')\n",
    "plt.title('Feature Correlation with Fraud Class')\n",
    "plt.xlabel('Correlation Coefficient')\n",
    "plt.tight_layout()\n",
    "plt.savefig('../reports/feature_correlation.png', dpi=300, bbox_inches='tight')\n",
    "plt.show()\n",
    "\n",
    "print(\"Top 10 features correlated with fraud:\")\n",
    "print(corr_with_class[1:11])"
   ]
  },
  {
   "cell_type": "code",
   "execution_count": null,
   "metadata": {},
   "outputs": [],
   "source": [
    "# Feature distributions comparison\n",
    "top_features = corr_with_class[1:9].index\n",
    "\n",
    "fig, axes = plt.subplots(2, 4, figsize=(20, 10))\n",
    "axes = axes.ravel()\n",
    "\n",
    "for i, feature in enumerate(top_features):\n",
    "    df[df['Class']==0][feature].hist(bins=50, alpha=0.7, label='Normal', ax=axes[i])\n",
    "    df[df['Class']==1][feature].hist(bins=50, alpha=0.7, label='Fraud', ax=axes[i])\n",
    "    axes[i].set_title(f'{feature} Distribution')\n",
    "    axes[i].legend()\n",
    "\n",
    "plt.tight_layout()\n",
    "plt.savefig('../reports/feature_distributions.png', dpi=300, bbox_inches='tight')\n",
    "plt.show()\n",
    "\n",
    "print(\"EDA complete. Plots saved to reports/ directory.\")"
   ]
  }
 ],
 "metadata": {
  "kernelspec": {
   "display_name": "Python 3",
   "language": "python",
   "name": "python3"
  }
 },
 "nbformat": 4,
 "nbformat_minor": 4
}