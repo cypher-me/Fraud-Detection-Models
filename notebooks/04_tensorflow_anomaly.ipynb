{
 "cells": [
  {
   "cell_type": "markdown",
   "metadata": {},
   "source": [
    "# TensorFlow Autoencoder Anomaly Detection"
   ]
  },
  {
   "cell_type": "code",
   "execution_count": null,
   "metadata": {},
   "outputs": [],
   "source": [
    "import sys\n",
    "sys.path.append('../src')\n",
    "\n",
    "import numpy as np\n",
    "import pandas as pd\n",
    "import pickle\n",
    "import matplotlib.pyplot as plt\n",
    "from sklearn.model_selection import train_test_split\n",
    "\n",
    "from tensorflow_anomaly import AutoencoderAnomalyDetector, evaluate_anomaly_model"
   ]
  },
  {
   "cell_type": "code",
   "execution_count": null,
   "metadata": {},
   "outputs": [],
   "source": [
    "# Load data\n",
    "X_train = np.load('../models/X_train.npy')\n",
    "X_test = np.load('../models/X_test.npy')\n",
    "y_train = np.load('../models/y_train.npy')\n",
    "y_test = np.load('../models/y_test.npy')\n",
    "\n",
    "with open('../models/feature_names.pkl', 'rb') as f:\n",
    "    feature_names = pickle.load(f)\n",
    "\n",
    "print(f\"Training data: {X_train.shape}\")\n",
    "print(f\"Test data: {X_test.shape}\")"
   ]
  },
  {
   "cell_type": "code",
   "execution_count": null,
   "metadata": {},
   "outputs": [],
   "source": [
    "# Use only normal transactions for training (unsupervised)\n",
    "X_train_normal = X_train[y_train == 0]\n",
    "X_train_split, X_val_split = train_test_split(X_train_normal, test_size=0.2, random_state=42)\n",
    "\n",
    "print(f\"Normal training samples: {len(X_train_split)}\")\n",
    "print(f\"Validation samples: {len(X_val_split)}\")"
   ]
  },
  {
   "cell_type": "code",
   "execution_count": null,
   "metadata": {},
   "outputs": [],
   "source": [
    "# Initialize and train autoencoder\n",
    "detector = AutoencoderAnomalyDetector(input_dim=X_train.shape[1], encoding_dim=16)\n",
    "\n",
    "print(\"Training autoencoder...\")\n",
    "history = detector.train(X_train_split, X_val_split, epochs=50, batch_size=256)\n",
    "\n",
    "print(f\"Training completed. Threshold: {detector.threshold:.4f}\")"
   ]
  },
  {
   "cell_type": "code",
   "execution_count": null,
   "metadata": {},
   "outputs": [],
   "source": [
    "# Plot training history\n",
    "plt.figure(figsize=(12, 4))\n",
    "\n",
    "plt.subplot(1, 2, 1)\n",
    "plt.plot(history.history['loss'], label='Training Loss')\n",
    "plt.plot(history.history['val_loss'], label='Validation Loss')\n",
    "plt.title('Training History')\n",
    "plt.xlabel('Epoch')\n",
    "plt.ylabel('Loss')\n",
    "plt.legend()\n",
    "\n",
    "plt.subplot(1, 2, 2)\n",
    "plt.plot(history.history['lr'] if 'lr' in history.history else [])\n",
    "plt.title('Learning Rate')\n",
    "plt.xlabel('Epoch')\n",
    "plt.ylabel('Learning Rate')\n",
    "\n",
    "plt.tight_layout()\n",
    "plt.savefig('../reports/autoencoder_training.png', dpi=300, bbox_inches='tight')\n",
    "plt.show()"
   ]
  },
  {
   "cell_type": "code",
   "execution_count": null,
   "metadata": {},
   "outputs": [],
   "source": [
    "# Evaluate on test set\n",
    "print(\"Evaluating on test set...\")\n",
    "test_auc, test_predictions, test_scores = evaluate_anomaly_model(detector, X_test, y_test)\n",
    "\n",
    "# Plot reconstruction error distribution\n",
    "plt.figure(figsize=(10, 6))\n",
    "plt.hist(test_scores[y_test == 0], bins=50, alpha=0.7, label='Normal', density=True)\n",
    "plt.hist(test_scores[y_test == 1], bins=50, alpha=0.7, label='Fraud', density=True)\n",
    "plt.axvline(detector.threshold, color='red', linestyle='--', label='Threshold')\n",
    "plt.xlabel('Reconstruction Error')\n",
    "plt.ylabel('Density')\n",
    "plt.title('Reconstruction Error Distribution')\n",
    "plt.legend()\n",
    "plt.yscale('log')\n",
    "plt.savefig('../reports/autoencoder_reconstruction_error.png', dpi=300, bbox_inches='tight')\n",
    "plt.show()"
   ]
  },
  {
   "cell_type": "code",
   "execution_count": null,
   "metadata": {},
   "outputs": [],
   "source": [
    "# Save model and predictions\n",
    "detector.save_model('../models/autoencoder_model')\n",
    "np.save('../models/autoencoder_test_predictions.npy', test_predictions)\n",
    "np.save('../models/autoencoder_test_scores.npy', test_scores)\n",
    "\n",
    "print(\"Autoencoder training completed!\")\n",
    "print(f\"Model saved to: ../models/autoencoder_model\")\n",
    "print(f\"Test AUC: {test_auc:.4f}\")"
   ]
  }
 ],
 "metadata": {
  "kernelspec": {
   "display_name": "Python 3",
   "language": "python",
   "name": "python3"
  }
 },
 "nbformat": 4,
 "nbformat_minor": 4
}