{
 "cells": [
  {
   "cell_type": "markdown",
   "metadata": {},
   "source": [
    "# Graph Neural Network Training for Fraud Detection"
   ]
  },
  {
   "cell_type": "code",
   "execution_count": null,
   "metadata": {},
   "outputs": [],
   "source": [
    "import sys\n",
    "sys.path.append('../src')\n",
    "\n",
    "import torch\n",
    "import numpy as np\n",
    "import pandas as pd\n",
    "import pickle\n",
    "from torch_geometric.data import DataLoader\n",
    "from sklearn.metrics import classification_report\n",
    "import matplotlib.pyplot as plt\n",
    "\n",
    "from gnn_model import FraudGNN, GraphDataProcessor, GNNTrainer"
   ]
  },
  {
   "cell_type": "code",
   "execution_count": null,
   "metadata": {},
   "outputs": [],
   "source": [
    "# Load data\n",
    "X_train = np.load('../models/X_train.npy')\n",
    "X_test = np.load('../models/X_test.npy')\n",
    "y_train = np.load('../models/y_train.npy')\n",
    "y_test = np.load('../models/y_test.npy')\n",
    "\n",
    "with open('../models/feature_names.pkl', 'rb') as f:\n",
    "    feature_names = pickle.load(f)\n",
    "\n",
    "print(f\"Training data: {X_train.shape}, Features: {len(feature_names)}\")"
   ]
  },
  {
   "cell_type": "code",
   "execution_count": null,
   "metadata": {},
   "outputs": [],
   "source": [
    "# Create DataFrames with synthetic Time/Amount for graph creation\n",
    "train_df = pd.DataFrame(X_train[:2000], columns=feature_names)  # Limit for efficiency\n",
    "train_df['Class'] = y_train[:2000]\n",
    "train_df['Time'] = np.arange(len(train_df))\n",
    "train_df['Amount'] = np.random.exponential(50, len(train_df))\n",
    "\n",
    "test_df = pd.DataFrame(X_test[:500], columns=feature_names)\n",
    "test_df['Class'] = y_test[:500]\n",
    "test_df['Time'] = np.arange(len(test_df))\n",
    "test_df['Amount'] = np.random.exponential(50, len(test_df))"
   ]
  },
  {
   "cell_type": "code",
   "execution_count": null,
   "metadata": {},
   "outputs": [],
   "source": [
    "# Create graphs\n",
    "processor = GraphDataProcessor()\n",
    "train_graph = processor.create_transaction_graph(train_df, feature_names)\n",
    "test_graph = processor.create_transaction_graph(test_df, feature_names)\n",
    "\n",
    "print(f\"Train graph: {train_graph.num_nodes} nodes, {train_graph.num_edges} edges\")\n",
    "print(f\"Test graph: {test_graph.num_nodes} nodes, {test_graph.num_edges} edges\")"
   ]
  },
  {
   "cell_type": "code",
   "execution_count": null,
   "metadata": {},
   "outputs": [],
   "source": [
    "# Create data loaders\n",
    "train_loader = DataLoader([train_graph], batch_size=1)\n",
    "val_loader = DataLoader([test_graph], batch_size=1)\n",
    "\n",
    "# Initialize model\n",
    "device = torch.device('cuda' if torch.cuda.is_available() else 'cpu')\n",
    "model = FraudGNN(input_dim=len(feature_names))\n",
    "trainer = GNNTrainer(model, device)\n",
    "\n",
    "print(f\"Using device: {device}\")"
   ]
  },
  {
   "cell_type": "code",
   "execution_count": null,
   "metadata": {},
   "outputs": [],
   "source": [
    "# Train model\n",
    "print(\"Training GNN...\")\n",
    "best_auc = trainer.train(train_loader, val_loader, epochs=30)\n",
    "print(f\"Best validation AUC: {best_auc:.4f}\")"
   ]
  },
  {
   "cell_type": "code",
   "execution_count": null,
   "metadata": {},
   "outputs": [],
   "source": [
    "# Evaluate\n",
    "test_auc, test_predictions, test_labels = trainer.evaluate(val_loader)\n",
    "test_pred_binary = (test_predictions > 0.5).astype(int)\n",
    "\n",
    "print(f\"Test AUC: {test_auc:.4f}\")\n",
    "print(classification_report(test_labels, test_pred_binary))\n",
    "\n",
    "# Save predictions\n",
    "np.save('../models/gnn_test_predictions.npy', test_predictions)\n",
    "np.save('../models/gnn_test_labels.npy', test_labels)\n",
    "\n",
    "print(\"GNN training completed!\")"
   ]
  }
 ],
 "metadata": {
  "kernelspec": {
   "display_name": "Python 3",
   "language": "python",
   "name": "python3"
  }
 },
 "nbformat": 4,
 "nbformat_minor": 4
}